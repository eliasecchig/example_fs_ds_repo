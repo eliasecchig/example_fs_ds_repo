{
 "cells": [
  {
   "cell_type": "code",
   "execution_count": null,
   "metadata": {},
   "outputs": [],
   "source": []
  }
 ],
 "metadata": {
  "kernelspec": {
   "display_name": "Python 3",
   "language": "python",
   "name": "python3"
  },
  "language_info": {
   "name": "python",
   "version": "3.8.13 (default, Oct 26 2022, 14:34:33) \n[Clang 14.0.0 (clang-1400.0.29.102)]"
  },
  "orig_nbformat": 4,
  "vscode": {
   "interpreter": {
    "hash": "82b4ab82dc5f425ab3c6d72cb2a5f96ebe8c6e2dcd94cf41a2992da868b63006"
   }
  }
 },
 "nbformat": 4,
 "nbformat_minor": 2
}
