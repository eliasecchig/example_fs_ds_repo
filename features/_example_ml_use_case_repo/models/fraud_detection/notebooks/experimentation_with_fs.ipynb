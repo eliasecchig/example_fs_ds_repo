{
 "cells": [
  {
   "cell_type": "code",
   "execution_count": 10,
   "metadata": {},
   "outputs": [
    {
     "name": "stdout",
     "output_type": "stream",
     "text": [
      "Requirement already satisfied: pandas in /Users/eliasecchi/.pyenv/versions/3.8.13/lib/python3.8/site-packages (1.5.2)\n",
      "Collecting pandas\n",
      "  Using cached pandas-1.5.3-cp38-cp38-macosx_11_0_arm64.whl (10.8 MB)\n",
      "Requirement already satisfied: xgboost in /Users/eliasecchi/.pyenv/versions/3.8.13/lib/python3.8/site-packages (1.7.2)\n",
      "Collecting xgboost\n",
      "  Downloading xgboost-1.7.4-py3-none-macosx_12_0_arm64.whl (1.6 MB)\n",
      "\u001b[2K     \u001b[90m━━━━━━━━━━━━━━━━━━━━━━━━━━━━━━━━━━━━━━━━\u001b[0m \u001b[32m1.6/1.6 MB\u001b[0m \u001b[31m6.7 MB/s\u001b[0m eta \u001b[36m0:00:00\u001b[0ma \u001b[36m0:00:01\u001b[0m0m\n",
      "\u001b[?25hRequirement already satisfied: pyarrow in /Users/eliasecchi/.pyenv/versions/3.8.13/lib/python3.8/site-packages (10.0.1)\n",
      "Collecting pyarrow\n",
      "  Using cached pyarrow-11.0.0-cp38-cp38-macosx_11_0_arm64.whl (22.4 MB)\n",
      "Requirement already satisfied: google-cloud-bigquery in /Users/eliasecchi/.local/lib/python3.8/site-packages (3.4.2)\n",
      "Collecting google-cloud-bigquery\n",
      "  Downloading google_cloud_bigquery-3.7.0-py2.py3-none-any.whl (215 kB)\n",
      "\u001b[2K     \u001b[90m━━━━━━━━━━━━━━━━━━━━━━━━━━━━━━━━━━━━━━━\u001b[0m \u001b[32m215.5/215.5 kB\u001b[0m \u001b[31m8.8 MB/s\u001b[0m eta \u001b[36m0:00:00\u001b[0m\n",
      "\u001b[?25hRequirement already satisfied: scikit-learn in /Users/eliasecchi/.pyenv/versions/3.8.13/lib/python3.8/site-packages (1.2.0)\n",
      "Collecting scikit-learn\n",
      "  Downloading scikit_learn-1.2.2-cp38-cp38-macosx_12_0_arm64.whl (8.3 MB)\n",
      "\u001b[2K     \u001b[90m━━━━━━━━━━━━━━━━━━━━━━━━━━━━━━━━━━━━━━━━\u001b[0m \u001b[32m8.3/8.3 MB\u001b[0m \u001b[31m11.0 MB/s\u001b[0m eta \u001b[36m0:00:00\u001b[0m00:01\u001b[0m00:01\u001b[0m\n",
      "\u001b[?25hRequirement already satisfied: matplotlib in /Users/eliasecchi/.pyenv/versions/3.8.13/lib/python3.8/site-packages (3.6.2)\n",
      "Collecting matplotlib\n",
      "  Downloading matplotlib-3.7.1-cp38-cp38-macosx_11_0_arm64.whl (7.3 MB)\n",
      "\u001b[2K     \u001b[90m━━━━━━━━━━━━━━━━━━━━━━━━━━━━━━━━━━━━━━━━\u001b[0m \u001b[32m7.3/7.3 MB\u001b[0m \u001b[31m11.4 MB/s\u001b[0m eta \u001b[36m0:00:00\u001b[0ma \u001b[36m0:00:01\u001b[0m\n",
      "\u001b[?25hRequirement already satisfied: db-dtypes in /Users/eliasecchi/.pyenv/versions/3.8.13/lib/python3.8/site-packages (1.0.5)\n",
      "Requirement already satisfied: google-cloud-bigquery-storage in /Users/eliasecchi/.pyenv/versions/3.8.13/lib/python3.8/site-packages (2.19.0)\n",
      "Requirement already satisfied: pytz>=2020.1 in /Users/eliasecchi/.pyenv/versions/3.8.13/lib/python3.8/site-packages (from pandas) (2022.6)\n",
      "Requirement already satisfied: python-dateutil>=2.8.1 in /Users/eliasecchi/.local/lib/python3.8/site-packages (from pandas) (2.8.2)\n",
      "Requirement already satisfied: numpy>=1.20.3 in /Users/eliasecchi/.pyenv/versions/3.8.13/lib/python3.8/site-packages (from pandas) (1.24.0)\n",
      "Requirement already satisfied: scipy in /Users/eliasecchi/.pyenv/versions/3.8.13/lib/python3.8/site-packages (from xgboost) (1.9.3)\n",
      "Requirement already satisfied: google-api-core[grpc]!=2.0.*,!=2.1.*,!=2.2.*,!=2.3.0,<3.0.0dev,>=1.31.5 in /Users/eliasecchi/.local/lib/python3.8/site-packages (from google-cloud-bigquery) (2.11.0)\n",
      "Requirement already satisfied: requests<3.0.0dev,>=2.21.0 in /Users/eliasecchi/.local/lib/python3.8/site-packages (from google-cloud-bigquery) (2.28.2)\n",
      "Requirement already satisfied: google-cloud-core<3.0.0dev,>=1.6.0 in /Users/eliasecchi/.local/lib/python3.8/site-packages (from google-cloud-bigquery) (2.3.2)\n",
      "Requirement already satisfied: protobuf!=3.20.0,!=3.20.1,!=4.21.0,!=4.21.1,!=4.21.2,!=4.21.3,!=4.21.4,!=4.21.5,<5.0.0dev,>=3.19.5 in /Users/eliasecchi/.local/lib/python3.8/site-packages (from google-cloud-bigquery) (3.20.3)\n",
      "Requirement already satisfied: google-resumable-media<3.0dev,>=0.6.0 in /Users/eliasecchi/.local/lib/python3.8/site-packages (from google-cloud-bigquery) (2.4.1)\n",
      "Requirement already satisfied: packaging>=20.0.0 in /Users/eliasecchi/.local/lib/python3.8/site-packages (from google-cloud-bigquery) (21.3)\n",
      "Requirement already satisfied: proto-plus<2.0.0dev,>=1.15.0 in /Users/eliasecchi/.local/lib/python3.8/site-packages (from google-cloud-bigquery) (1.22.2)\n",
      "Requirement already satisfied: grpcio<2.0dev,>=1.47.0 in /Users/eliasecchi/.local/lib/python3.8/site-packages (from google-cloud-bigquery) (1.51.1)\n",
      "Requirement already satisfied: threadpoolctl>=2.0.0 in /Users/eliasecchi/.pyenv/versions/3.8.13/lib/python3.8/site-packages (from scikit-learn) (3.1.0)\n",
      "Requirement already satisfied: joblib>=1.1.1 in /Users/eliasecchi/.pyenv/versions/3.8.13/lib/python3.8/site-packages (from scikit-learn) (1.2.0)\n",
      "Requirement already satisfied: kiwisolver>=1.0.1 in /Users/eliasecchi/.pyenv/versions/3.8.13/lib/python3.8/site-packages (from matplotlib) (1.4.4)\n",
      "Requirement already satisfied: fonttools>=4.22.0 in /Users/eliasecchi/.pyenv/versions/3.8.13/lib/python3.8/site-packages (from matplotlib) (4.38.0)\n",
      "Requirement already satisfied: pillow>=6.2.0 in /Users/eliasecchi/.pyenv/versions/3.8.13/lib/python3.8/site-packages (from matplotlib) (9.3.0)\n",
      "Requirement already satisfied: cycler>=0.10 in /Users/eliasecchi/.pyenv/versions/3.8.13/lib/python3.8/site-packages (from matplotlib) (0.11.0)\n",
      "Requirement already satisfied: pyparsing>=2.3.1 in /Users/eliasecchi/.local/lib/python3.8/site-packages (from matplotlib) (3.0.9)\n",
      "Requirement already satisfied: importlib-resources>=3.2.0 in /Users/eliasecchi/.pyenv/versions/3.8.13/lib/python3.8/site-packages (from matplotlib) (5.10.0)\n",
      "Requirement already satisfied: contourpy>=1.0.1 in /Users/eliasecchi/.pyenv/versions/3.8.13/lib/python3.8/site-packages (from matplotlib) (1.0.6)\n",
      "Requirement already satisfied: googleapis-common-protos<2.0dev,>=1.56.2 in /Users/eliasecchi/.local/lib/python3.8/site-packages (from google-api-core[grpc]!=2.0.*,!=2.1.*,!=2.2.*,!=2.3.0,<3.0.0dev,>=1.31.5->google-cloud-bigquery) (1.58.0)\n",
      "Requirement already satisfied: google-auth<3.0dev,>=2.14.1 in /Users/eliasecchi/.local/lib/python3.8/site-packages (from google-api-core[grpc]!=2.0.*,!=2.1.*,!=2.2.*,!=2.3.0,<3.0.0dev,>=1.31.5->google-cloud-bigquery) (2.16.0)\n",
      "Requirement already satisfied: grpcio-status<2.0dev,>=1.33.2 in /Users/eliasecchi/.local/lib/python3.8/site-packages (from google-api-core[grpc]!=2.0.*,!=2.1.*,!=2.2.*,!=2.3.0,<3.0.0dev,>=1.31.5->google-cloud-bigquery) (1.48.2)\n",
      "Requirement already satisfied: google-crc32c<2.0dev,>=1.0 in /Users/eliasecchi/.local/lib/python3.8/site-packages (from google-resumable-media<3.0dev,>=0.6.0->google-cloud-bigquery) (1.5.0)\n",
      "Requirement already satisfied: zipp>=3.1.0 in /Users/eliasecchi/.pyenv/versions/3.8.13/lib/python3.8/site-packages (from importlib-resources>=3.2.0->matplotlib) (3.10.0)\n",
      "Requirement already satisfied: six>=1.5 in /Users/eliasecchi/.local/lib/python3.8/site-packages (from python-dateutil>=2.8.1->pandas) (1.16.0)\n",
      "Requirement already satisfied: charset-normalizer<4,>=2 in /Users/eliasecchi/.local/lib/python3.8/site-packages (from requests<3.0.0dev,>=2.21.0->google-cloud-bigquery) (3.0.1)\n",
      "Requirement already satisfied: idna<4,>=2.5 in /Users/eliasecchi/.local/lib/python3.8/site-packages (from requests<3.0.0dev,>=2.21.0->google-cloud-bigquery) (3.4)\n",
      "Requirement already satisfied: urllib3<1.27,>=1.21.1 in /Users/eliasecchi/.local/lib/python3.8/site-packages (from requests<3.0.0dev,>=2.21.0->google-cloud-bigquery) (1.26.14)\n",
      "Requirement already satisfied: certifi>=2017.4.17 in /Users/eliasecchi/.local/lib/python3.8/site-packages (from requests<3.0.0dev,>=2.21.0->google-cloud-bigquery) (2022.12.7)\n",
      "Requirement already satisfied: rsa<5,>=3.1.4 in /Users/eliasecchi/.local/lib/python3.8/site-packages (from google-auth<3.0dev,>=2.14.1->google-api-core[grpc]!=2.0.*,!=2.1.*,!=2.2.*,!=2.3.0,<3.0.0dev,>=1.31.5->google-cloud-bigquery) (4.9)\n",
      "Requirement already satisfied: cachetools<6.0,>=2.0.0 in /Users/eliasecchi/.local/lib/python3.8/site-packages (from google-auth<3.0dev,>=2.14.1->google-api-core[grpc]!=2.0.*,!=2.1.*,!=2.2.*,!=2.3.0,<3.0.0dev,>=1.31.5->google-cloud-bigquery) (5.2.1)\n",
      "Requirement already satisfied: pyasn1-modules>=0.2.1 in /Users/eliasecchi/.local/lib/python3.8/site-packages (from google-auth<3.0dev,>=2.14.1->google-api-core[grpc]!=2.0.*,!=2.1.*,!=2.2.*,!=2.3.0,<3.0.0dev,>=1.31.5->google-cloud-bigquery) (0.2.8)\n",
      "Requirement already satisfied: pyasn1<0.5.0,>=0.4.6 in /Users/eliasecchi/.local/lib/python3.8/site-packages (from pyasn1-modules>=0.2.1->google-auth<3.0dev,>=2.14.1->google-api-core[grpc]!=2.0.*,!=2.1.*,!=2.2.*,!=2.3.0,<3.0.0dev,>=1.31.5->google-cloud-bigquery) (0.4.8)\n",
      "Installing collected packages: pyarrow, xgboost, scikit-learn, pandas, matplotlib, google-cloud-bigquery\n",
      "  Attempting uninstall: pyarrow\n",
      "    Found existing installation: pyarrow 10.0.1\n",
      "    Uninstalling pyarrow-10.0.1:\n",
      "      Successfully uninstalled pyarrow-10.0.1\n",
      "  Attempting uninstall: xgboost\n",
      "    Found existing installation: xgboost 1.7.2\n",
      "    Uninstalling xgboost-1.7.2:\n",
      "      Successfully uninstalled xgboost-1.7.2\n",
      "  Attempting uninstall: scikit-learn\n",
      "    Found existing installation: scikit-learn 1.2.0\n",
      "    Uninstalling scikit-learn-1.2.0:\n",
      "      Successfully uninstalled scikit-learn-1.2.0\n",
      "  Attempting uninstall: pandas\n",
      "    Found existing installation: pandas 1.5.2\n",
      "    Uninstalling pandas-1.5.2:\n",
      "      Successfully uninstalled pandas-1.5.2\n",
      "  Attempting uninstall: matplotlib\n",
      "    Found existing installation: matplotlib 3.6.2\n",
      "    Uninstalling matplotlib-3.6.2:\n",
      "      Successfully uninstalled matplotlib-3.6.2\n",
      "  Attempting uninstall: google-cloud-bigquery\n",
      "    Found existing installation: google-cloud-bigquery 3.4.2\n",
      "    Uninstalling google-cloud-bigquery-3.4.2:\n",
      "      Successfully uninstalled google-cloud-bigquery-3.4.2\n",
      "\u001b[31mERROR: pip's dependency resolver does not currently take into account all the packages that are installed. This behaviour is the source of the following dependency conflicts.\n",
      "dbt-bigquery 1.3.0 requires google-cloud-bigquery<3,>=1.25.0, but you have google-cloud-bigquery 3.7.0 which is incompatible.\u001b[0m\u001b[31m\n",
      "\u001b[0mSuccessfully installed google-cloud-bigquery-3.7.0 matplotlib-3.7.1 pandas-1.5.3 pyarrow-11.0.0 scikit-learn-1.2.2 xgboost-1.7.4\n",
      "\n",
      "\u001b[1m[\u001b[0m\u001b[34;49mnotice\u001b[0m\u001b[1;39;49m]\u001b[0m\u001b[39;49m A new release of pip available: \u001b[0m\u001b[31;49m22.3.1\u001b[0m\u001b[39;49m -> \u001b[0m\u001b[32;49m23.0.1\u001b[0m\n",
      "\u001b[1m[\u001b[0m\u001b[34;49mnotice\u001b[0m\u001b[1;39;49m]\u001b[0m\u001b[39;49m To update, run: \u001b[0m\u001b[32;49mpip install --upgrade pip\u001b[0m\n"
     ]
    }
   ],
   "source": [
    "!pip install --upgrade pandas xgboost pyarrow google-cloud-bigquery scikit-learn matplotlib db-dtypes google-cloud-bigquery-storage"
   ]
  },
  {
   "cell_type": "code",
   "execution_count": 6,
   "metadata": {},
   "outputs": [],
   "source": [
    "PROJECT_ID = 'vertex-ai-test-365213'\n",
    "LOCATION = \"us-central1\"\n",
    "DATASET = \"eliasecchi_dev\"\n",
    "TABLE = \"transactions__feature_creation_sample\"\n",
    "FEATURESTORE_ID  = \"test_feature_store\"\n",
    "SERVING_FEATURE_IDS = {\"customer\": [\"avg_tx_amount_7d\", \"count_tx_28d\"], \"terminal\": [\"max_tx_amount_28d\", \"max_tx_amount_90d\"]}"
   ]
  },
  {
   "cell_type": "code",
   "execution_count": 2,
   "metadata": {},
   "outputs": [],
   "source": [
    "\n",
    "import datetime\n",
    "import io\n",
    "import json\n",
    "import logging\n",
    "import pandas as pd\n",
    "\n",
    "from google.cloud import bigquery\n",
    "from typing import Dict, List\n",
    "from google.cloud import bigquery\n",
    "from xgboost import XGBRegressor\n",
    "from google.cloud import aiplatform as vertex_ai\n",
    "from google.cloud.aiplatform import Featurestore, EntityType, Feature\n",
    "\n",
    "\n",
    "def get_schema_from_query_job(\n",
    "    client: bigquery.client.Client, query_job: bigquery.job.QueryJob\n",
    ") -> dict:\n",
    "    f = io.StringIO(\"\")\n",
    "    result = query_job.result()\n",
    "    client.schema_to_json(result.schema, f)\n",
    "    return json.loads(f.getvalue())\n",
    "\n",
    "\n",
    "def bq_schema_to_dtypes(bq_schema: List[Dict[str, str]]) -> Dict[str, str]:\n",
    "    mapping_dict = {\n",
    "        \"STRING\": \"str\",\n",
    "        \"INTEGER\": \"int\",\n",
    "        \"FLOAT\": \"float\",\n",
    "        \"NUMERIC\": \"float\",\n",
    "        \"BOOLEAN\": \"bool\",\n",
    "    }\n",
    "    return {column[\"name\"]: mapping_dict.get(column[\"type\"], \"object\") for column in bq_schema}\n",
    "\n",
    "\n",
    "def get_casted_df_from_query(client, sql):\n",
    "    job = client.query(sql)\n",
    "    bq_schema = get_schema_from_query_job(client=client, query_job=job)\n",
    "    dtypes = bq_schema_to_dtypes(bq_schema=bq_schema)\n",
    "    df = job.to_dataframe(dtypes=dtypes)\n",
    "    return df\n",
    "\n",
    "client = bigquery.Client(project=PROJECT_ID, location=LOCATION)\n",
    "vertex_ai.init(\n",
    "    project=PROJECT_ID,\n",
    "    location=LOCATION\n",
    ")\n",
    "feature_store = Featurestore(FEATURESTORE_ID)\n",
    "\n"
   ]
  },
  {
   "cell_type": "code",
   "execution_count": 4,
   "metadata": {},
   "outputs": [],
   "source": [
    "pass_through_fields=[\"tx_fraud\", \"tx_amount\", \"avg_tx_amount_by_customer_id_1h_1s\",\"avg_tx_amount_by_customer_id_28d_1s\",\n",
    "                         \"avg_tx_amount_by_customer_id_90d_1s\",\"min_tx_amount_by_customer_id_1h_1s\",\"min_tx_amount_by_customer_id_5d_1s\"]\n"
   ]
  },
  {
   "cell_type": "code",
   "execution_count": 8,
   "metadata": {},
   "outputs": [
    {
     "name": "stdout",
     "output_type": "stream",
     "text": [
      "Serving Featurestore feature values: projects/370018035372/locations/us-central1/featurestores/test_feature_store\n",
      "Serve Featurestore feature values backing LRO: projects/370018035372/locations/us-central1/featurestores/test_feature_store/operations/2165186678560391168\n",
      "Featurestore feature values served. Resource name: projects/370018035372/locations/us-central1/featurestores/test_feature_store\n"
     ]
    }
   ],
   "source": [
    "# Let's select a sample of our training dataset for the training split\n",
    "sql = f\"\"\"\n",
    "    SELECT tx_id,tx_ts as timestamp,customer_id as customer,terminal_id as terminal,created_timestamp, {','.join(pass_through_fields)}\n",
    "    FROM `{PROJECT_ID}.{DATASET}.{TABLE}` \n",
    "    WHERE tx_ts >= \"2022-06-01\" AND tx_ts < \"2022-07-01\"\n",
    "    AND ABS(MOD(FARM_FINGERPRINT(tx_id), 100)) = 1 \n",
    "\"\"\"\n",
    "df_train_read_instance = get_casted_df_from_query(client=client, sql=sql)\n",
    "df_train = feature_store.batch_serve_to_df(\n",
    "    serving_feature_ids=SERVING_FEATURE_IDS,\n",
    "    read_instances_df=df_train_read_instance,\n",
    "    pass_through_fields=pass_through_fields,\n",
    ")\n"
   ]
  },
  {
   "cell_type": "code",
   "execution_count": 9,
   "metadata": {},
   "outputs": [
    {
     "name": "stdout",
     "output_type": "stream",
     "text": [
      "Serving Featurestore feature values: projects/370018035372/locations/us-central1/featurestores/test_feature_store\n",
      "Serve Featurestore feature values backing LRO: projects/370018035372/locations/us-central1/featurestores/test_feature_store/operations/800595991467130880\n",
      "Featurestore feature values served. Resource name: projects/370018035372/locations/us-central1/featurestores/test_feature_store\n"
     ]
    }
   ],
   "source": [
    "# Let's select a sample of our validation dataset for the training split\n",
    "sql = f\"\"\"\n",
    "    SELECT tx_id,tx_ts as timestamp,customer_id as customer,terminal_id as terminal,created_timestamp, {','.join(pass_through_fields)}\n",
    "    FROM `{PROJECT_ID}.{DATASET}.{TABLE}` \n",
    "    WHERE tx_ts >= \"2022-07-01\" AND tx_ts < \"2022-07-10\"\n",
    "    AND ABS(MOD(FARM_FINGERPRINT(tx_id), 100)) = 1 \n",
    "\"\"\"\n",
    "df_val_read_instance = get_casted_df_from_query(client=client, sql=sql)\n",
    "df_val = feature_store.batch_serve_to_df(\n",
    "    serving_feature_ids=SERVING_FEATURE_IDS,\n",
    "    read_instances_df=df_train_read_instance,\n",
    "    pass_through_fields=pass_through_fields,\n",
    ")"
   ]
  },
  {
   "cell_type": "code",
   "execution_count": 14,
   "metadata": {},
   "outputs": [],
   "source": [
    "EXCLUDE_COLUMNS= ['tx_id','timestamp','entity_type_customer', 'entity_type_terminal', 'created_timestamp']\n",
    "CATEGORICAL_COLUMNS = []\n",
    "LABEL = 'tx_fraud'\n",
    "\n",
    "training_columns = [column for column in list(df_train.columns) if column not in EXCLUDE_COLUMNS + [LABEL]]\n",
    "\n",
    "# Setting the type of some columns to category\n",
    "df_train[CATEGORICAL_COLUMNS] = df_train[CATEGORICAL_COLUMNS].astype('category')\n",
    "df_val[CATEGORICAL_COLUMNS] = df_train[CATEGORICAL_COLUMNS].astype('category')"
   ]
  },
  {
   "cell_type": "code",
   "execution_count": 15,
   "metadata": {},
   "outputs": [],
   "source": [
    "x = df_train[training_columns]\n",
    "y = df_train[[LABEL]]\n",
    "x_val = df_val[training_columns]\n",
    "y_val =  df_val[[LABEL]]"
   ]
  },
  {
   "cell_type": "code",
   "execution_count": 16,
   "metadata": {},
   "outputs": [
    {
     "name": "stdout",
     "output_type": "stream",
     "text": [
      "[0]\tvalidation_0-rmse:0.35223\n",
      "[1]\tvalidation_0-rmse:0.24953\n",
      "[2]\tvalidation_0-rmse:0.17878\n",
      "[3]\tvalidation_0-rmse:0.13056\n",
      "[4]\tvalidation_0-rmse:0.09845\n",
      "[5]\tvalidation_0-rmse:0.07792\n",
      "[6]\tvalidation_0-rmse:0.06530\n",
      "[7]\tvalidation_0-rmse:0.05806\n",
      "[8]\tvalidation_0-rmse:0.05399\n",
      "[9]\tvalidation_0-rmse:0.05168\n",
      "[10]\tvalidation_0-rmse:0.04943\n",
      "[11]\tvalidation_0-rmse:0.04878\n",
      "[12]\tvalidation_0-rmse:0.04745\n",
      "[13]\tvalidation_0-rmse:0.04702\n",
      "[14]\tvalidation_0-rmse:0.04662\n",
      "[15]\tvalidation_0-rmse:0.04570\n",
      "[16]\tvalidation_0-rmse:0.04456\n",
      "[17]\tvalidation_0-rmse:0.04429\n",
      "[18]\tvalidation_0-rmse:0.04396\n",
      "[19]\tvalidation_0-rmse:0.04317\n",
      "[20]\tvalidation_0-rmse:0.04265\n",
      "[21]\tvalidation_0-rmse:0.04210\n",
      "[22]\tvalidation_0-rmse:0.04042\n",
      "[23]\tvalidation_0-rmse:0.03838\n",
      "[24]\tvalidation_0-rmse:0.03807\n",
      "[25]\tvalidation_0-rmse:0.03741\n",
      "[26]\tvalidation_0-rmse:0.03716\n",
      "[27]\tvalidation_0-rmse:0.03632\n",
      "[28]\tvalidation_0-rmse:0.03596\n",
      "[29]\tvalidation_0-rmse:0.03546\n",
      "[30]\tvalidation_0-rmse:0.03483\n",
      "[31]\tvalidation_0-rmse:0.03472\n",
      "[32]\tvalidation_0-rmse:0.03442\n",
      "[33]\tvalidation_0-rmse:0.03416\n",
      "[34]\tvalidation_0-rmse:0.03391\n",
      "[35]\tvalidation_0-rmse:0.03336\n",
      "[36]\tvalidation_0-rmse:0.03307\n",
      "[37]\tvalidation_0-rmse:0.03116\n",
      "[38]\tvalidation_0-rmse:0.03048\n",
      "[39]\tvalidation_0-rmse:0.02977\n",
      "[40]\tvalidation_0-rmse:0.02951\n",
      "[41]\tvalidation_0-rmse:0.02921\n",
      "[42]\tvalidation_0-rmse:0.02897\n",
      "[43]\tvalidation_0-rmse:0.02874\n",
      "[44]\tvalidation_0-rmse:0.02802\n",
      "[45]\tvalidation_0-rmse:0.02754\n",
      "[46]\tvalidation_0-rmse:0.02734\n",
      "[47]\tvalidation_0-rmse:0.02664\n",
      "[48]\tvalidation_0-rmse:0.02558\n",
      "[49]\tvalidation_0-rmse:0.02548\n",
      "[50]\tvalidation_0-rmse:0.02526\n",
      "[51]\tvalidation_0-rmse:0.02453\n",
      "[52]\tvalidation_0-rmse:0.02442\n",
      "[53]\tvalidation_0-rmse:0.02424\n",
      "[54]\tvalidation_0-rmse:0.02396\n",
      "[55]\tvalidation_0-rmse:0.02354\n",
      "[56]\tvalidation_0-rmse:0.02333\n",
      "[57]\tvalidation_0-rmse:0.02312\n",
      "[58]\tvalidation_0-rmse:0.02274\n",
      "[59]\tvalidation_0-rmse:0.02243\n",
      "[60]\tvalidation_0-rmse:0.02230\n",
      "[61]\tvalidation_0-rmse:0.02216\n",
      "[62]\tvalidation_0-rmse:0.02208\n",
      "[63]\tvalidation_0-rmse:0.02137\n",
      "[64]\tvalidation_0-rmse:0.02115\n",
      "[65]\tvalidation_0-rmse:0.02106\n",
      "[66]\tvalidation_0-rmse:0.02097\n",
      "[67]\tvalidation_0-rmse:0.02074\n",
      "[68]\tvalidation_0-rmse:0.02039\n",
      "[69]\tvalidation_0-rmse:0.02030\n",
      "[70]\tvalidation_0-rmse:0.01995\n",
      "[71]\tvalidation_0-rmse:0.01971\n",
      "[72]\tvalidation_0-rmse:0.01967\n",
      "[73]\tvalidation_0-rmse:0.01938\n",
      "[74]\tvalidation_0-rmse:0.01912\n",
      "[75]\tvalidation_0-rmse:0.01903\n",
      "[76]\tvalidation_0-rmse:0.01897\n",
      "[77]\tvalidation_0-rmse:0.01860\n",
      "[78]\tvalidation_0-rmse:0.01799\n",
      "[79]\tvalidation_0-rmse:0.01798\n",
      "[80]\tvalidation_0-rmse:0.01789\n",
      "[81]\tvalidation_0-rmse:0.01763\n",
      "[82]\tvalidation_0-rmse:0.01732\n",
      "[83]\tvalidation_0-rmse:0.01727\n",
      "[84]\tvalidation_0-rmse:0.01693\n",
      "[85]\tvalidation_0-rmse:0.01669\n",
      "[86]\tvalidation_0-rmse:0.01648\n",
      "[87]\tvalidation_0-rmse:0.01640\n",
      "[88]\tvalidation_0-rmse:0.01616\n",
      "[89]\tvalidation_0-rmse:0.01591\n",
      "[90]\tvalidation_0-rmse:0.01558\n",
      "[91]\tvalidation_0-rmse:0.01521\n",
      "[92]\tvalidation_0-rmse:0.01503\n",
      "[93]\tvalidation_0-rmse:0.01498\n",
      "[94]\tvalidation_0-rmse:0.01498\n",
      "[95]\tvalidation_0-rmse:0.01480\n",
      "[96]\tvalidation_0-rmse:0.01450\n",
      "[97]\tvalidation_0-rmse:0.01437\n",
      "[98]\tvalidation_0-rmse:0.01425\n",
      "[99]\tvalidation_0-rmse:0.01417\n"
     ]
    },
    {
     "data": {
      "text/html": [
       "<style>#sk-container-id-1 {color: black;background-color: white;}#sk-container-id-1 pre{padding: 0;}#sk-container-id-1 div.sk-toggleable {background-color: white;}#sk-container-id-1 label.sk-toggleable__label {cursor: pointer;display: block;width: 100%;margin-bottom: 0;padding: 0.3em;box-sizing: border-box;text-align: center;}#sk-container-id-1 label.sk-toggleable__label-arrow:before {content: \"▸\";float: left;margin-right: 0.25em;color: #696969;}#sk-container-id-1 label.sk-toggleable__label-arrow:hover:before {color: black;}#sk-container-id-1 div.sk-estimator:hover label.sk-toggleable__label-arrow:before {color: black;}#sk-container-id-1 div.sk-toggleable__content {max-height: 0;max-width: 0;overflow: hidden;text-align: left;background-color: #f0f8ff;}#sk-container-id-1 div.sk-toggleable__content pre {margin: 0.2em;color: black;border-radius: 0.25em;background-color: #f0f8ff;}#sk-container-id-1 input.sk-toggleable__control:checked~div.sk-toggleable__content {max-height: 200px;max-width: 100%;overflow: auto;}#sk-container-id-1 input.sk-toggleable__control:checked~label.sk-toggleable__label-arrow:before {content: \"▾\";}#sk-container-id-1 div.sk-estimator input.sk-toggleable__control:checked~label.sk-toggleable__label {background-color: #d4ebff;}#sk-container-id-1 div.sk-label input.sk-toggleable__control:checked~label.sk-toggleable__label {background-color: #d4ebff;}#sk-container-id-1 input.sk-hidden--visually {border: 0;clip: rect(1px 1px 1px 1px);clip: rect(1px, 1px, 1px, 1px);height: 1px;margin: -1px;overflow: hidden;padding: 0;position: absolute;width: 1px;}#sk-container-id-1 div.sk-estimator {font-family: monospace;background-color: #f0f8ff;border: 1px dotted black;border-radius: 0.25em;box-sizing: border-box;margin-bottom: 0.5em;}#sk-container-id-1 div.sk-estimator:hover {background-color: #d4ebff;}#sk-container-id-1 div.sk-parallel-item::after {content: \"\";width: 100%;border-bottom: 1px solid gray;flex-grow: 1;}#sk-container-id-1 div.sk-label:hover label.sk-toggleable__label {background-color: #d4ebff;}#sk-container-id-1 div.sk-serial::before {content: \"\";position: absolute;border-left: 1px solid gray;box-sizing: border-box;top: 0;bottom: 0;left: 50%;z-index: 0;}#sk-container-id-1 div.sk-serial {display: flex;flex-direction: column;align-items: center;background-color: white;padding-right: 0.2em;padding-left: 0.2em;position: relative;}#sk-container-id-1 div.sk-item {position: relative;z-index: 1;}#sk-container-id-1 div.sk-parallel {display: flex;align-items: stretch;justify-content: center;background-color: white;position: relative;}#sk-container-id-1 div.sk-item::before, #sk-container-id-1 div.sk-parallel-item::before {content: \"\";position: absolute;border-left: 1px solid gray;box-sizing: border-box;top: 0;bottom: 0;left: 50%;z-index: -1;}#sk-container-id-1 div.sk-parallel-item {display: flex;flex-direction: column;z-index: 1;position: relative;background-color: white;}#sk-container-id-1 div.sk-parallel-item:first-child::after {align-self: flex-end;width: 50%;}#sk-container-id-1 div.sk-parallel-item:last-child::after {align-self: flex-start;width: 50%;}#sk-container-id-1 div.sk-parallel-item:only-child::after {width: 0;}#sk-container-id-1 div.sk-dashed-wrapped {border: 1px dashed gray;margin: 0 0.4em 0.5em 0.4em;box-sizing: border-box;padding-bottom: 0.4em;background-color: white;}#sk-container-id-1 div.sk-label label {font-family: monospace;font-weight: bold;display: inline-block;line-height: 1.2em;}#sk-container-id-1 div.sk-label-container {text-align: center;}#sk-container-id-1 div.sk-container {/* jupyter's `normalize.less` sets `[hidden] { display: none; }` but bootstrap.min.css set `[hidden] { display: none !important; }` so we also need the `!important` here to be able to override the default hidden behavior on the sphinx rendered scikit-learn.org. See: https://github.com/scikit-learn/scikit-learn/issues/21755 */display: inline-block !important;position: relative;}#sk-container-id-1 div.sk-text-repr-fallback {display: none;}</style><div id=\"sk-container-id-1\" class=\"sk-top-container\"><div class=\"sk-text-repr-fallback\"><pre>XGBRegressor(base_score=None, booster=None, callbacks=None,\n",
       "             colsample_bylevel=None, colsample_bynode=None,\n",
       "             colsample_bytree=None, early_stopping_rounds=None,\n",
       "             enable_categorical=True, eval_metric=None, feature_types=None,\n",
       "             gamma=None, gpu_id=None, grow_policy=None, importance_type=None,\n",
       "             interaction_constraints=None, learning_rate=None, max_bin=None,\n",
       "             max_cat_threshold=None, max_cat_to_onehot=None,\n",
       "             max_delta_step=None, max_depth=None, max_leaves=None,\n",
       "             min_child_weight=None, missing=nan, monotone_constraints=None,\n",
       "             n_estimators=100, n_jobs=None, num_parallel_tree=None,\n",
       "             predictor=None, random_state=None, ...)</pre><b>In a Jupyter environment, please rerun this cell to show the HTML representation or trust the notebook. <br />On GitHub, the HTML representation is unable to render, please try loading this page with nbviewer.org.</b></div><div class=\"sk-container\" hidden><div class=\"sk-item\"><div class=\"sk-estimator sk-toggleable\"><input class=\"sk-toggleable__control sk-hidden--visually\" id=\"sk-estimator-id-1\" type=\"checkbox\" checked><label for=\"sk-estimator-id-1\" class=\"sk-toggleable__label sk-toggleable__label-arrow\">XGBRegressor</label><div class=\"sk-toggleable__content\"><pre>XGBRegressor(base_score=None, booster=None, callbacks=None,\n",
       "             colsample_bylevel=None, colsample_bynode=None,\n",
       "             colsample_bytree=None, early_stopping_rounds=None,\n",
       "             enable_categorical=True, eval_metric=None, feature_types=None,\n",
       "             gamma=None, gpu_id=None, grow_policy=None, importance_type=None,\n",
       "             interaction_constraints=None, learning_rate=None, max_bin=None,\n",
       "             max_cat_threshold=None, max_cat_to_onehot=None,\n",
       "             max_delta_step=None, max_depth=None, max_leaves=None,\n",
       "             min_child_weight=None, missing=nan, monotone_constraints=None,\n",
       "             n_estimators=100, n_jobs=None, num_parallel_tree=None,\n",
       "             predictor=None, random_state=None, ...)</pre></div></div></div></div></div>"
      ],
      "text/plain": [
       "XGBRegressor(base_score=None, booster=None, callbacks=None,\n",
       "             colsample_bylevel=None, colsample_bynode=None,\n",
       "             colsample_bytree=None, early_stopping_rounds=None,\n",
       "             enable_categorical=True, eval_metric=None, feature_types=None,\n",
       "             gamma=None, gpu_id=None, grow_policy=None, importance_type=None,\n",
       "             interaction_constraints=None, learning_rate=None, max_bin=None,\n",
       "             max_cat_threshold=None, max_cat_to_onehot=None,\n",
       "             max_delta_step=None, max_depth=None, max_leaves=None,\n",
       "             min_child_weight=None, missing=nan, monotone_constraints=None,\n",
       "             n_estimators=100, n_jobs=None, num_parallel_tree=None,\n",
       "             predictor=None, random_state=None, ...)"
      ]
     },
     "execution_count": 16,
     "metadata": {},
     "output_type": "execute_result"
    }
   ],
   "source": [
    "model = XGBRegressor(enable_categorical=True, tree_method=\"hist\")\n",
    "model.fit(x,y, eval_set=[(x_val,y_val)])"
   ]
  },
  {
   "cell_type": "code",
   "execution_count": 17,
   "metadata": {},
   "outputs": [
    {
     "data": {
      "text/plain": [
       "<Axes: >"
      ]
     },
     "execution_count": 17,
     "metadata": {},
     "output_type": "execute_result"
    },
    {
     "data": {
      "image/png": "[encoded data removed]",
      "text/plain": [
       "<Figure size 2000x1000 with 1 Axes>"
      ]
     },
     "metadata": {},
     "output_type": "display_data"
    }
   ],
   "source": [
    "# Print feature importances\n",
    "feature_importance = model.get_booster().get_score(importance_type='weight')\n",
    "keys = list(feature_importance.keys())\n",
    "values = list(feature_importance.values())\n",
    "\n",
    "data = pd.DataFrame(data=values, index=keys, columns=[\"score\"]).sort_values(by = \"score\", ascending=False)\n",
    "data.nlargest(40, columns=\"score\").plot(kind='barh', figsize = (20,10)) ## plot top 40 features"
   ]
  },
  {
   "cell_type": "code",
   "execution_count": 18,
   "metadata": {},
   "outputs": [
    {
     "data": {
      "text/plain": [
       "Index(['tx_amount', 'avg_tx_amount_by_customer_id_1h_1s',\n",
       "       'avg_tx_amount_by_customer_id_28d_1s',\n",
       "       'avg_tx_amount_by_customer_id_90d_1s',\n",
       "       'min_tx_amount_by_customer_id_1h_1s',\n",
       "       'min_tx_amount_by_customer_id_5d_1s', 'avg_tx_amount_7d',\n",
       "       'count_tx_28d', 'max_tx_amount_28d', 'max_tx_amount_90d'],\n",
       "      dtype='object')"
      ]
     },
     "execution_count": 18,
     "metadata": {},
     "output_type": "execute_result"
    }
   ],
   "source": [
    "x.columns"
   ]
  },
  {
   "cell_type": "code",
   "execution_count": null,
   "metadata": {},
   "outputs": [],
   "source": []
  }
 ],
 "metadata": {
  "kernelspec": {
   "display_name": "Python 3",
   "language": "python",
   "name": "python3"
  },
  "language_info": {
   "codemirror_mode": {
    "name": "ipython",
    "version": 3
   },
   "file_extension": ".py",
   "mimetype": "text/x-python",
   "name": "python",
   "nbconvert_exporter": "python",
   "pygments_lexer": "ipython3",
   "version": "3.8.13"
  },
  "orig_nbformat": 4,
  "vscode": {
   "interpreter": {
    "hash": "82b4ab82dc5f425ab3c6d72cb2a5f96ebe8c6e2dcd94cf41a2992da868b63006"
   }
  }
 },
 "nbformat": 4,
 "nbformat_minor": 2
}
